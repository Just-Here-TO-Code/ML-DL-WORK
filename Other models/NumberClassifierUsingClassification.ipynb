{
 "cells": [
  {
   "cell_type": "code",
   "execution_count": 9,
   "id": "0ebef432-7c5d-415f-b561-cd6ee9c5eb95",
   "metadata": {},
   "outputs": [],
   "source": [
    "import keras\n",
    "from keras.models import Sequential\n",
    "from keras.layers import Input\n",
    "from keras.layers import Dense\n",
    "from keras.utils import to_categorical\n",
    "import matplotlib.pyplot as plt\n",
    "from keras.datasets import mnist\n",
    "import numpy as np\n",
    "import pandas as pd"
   ]
  },
  {
   "cell_type": "code",
   "execution_count": 40,
   "id": "12db53f9-86d4-477d-b8fe-ab368fbc1912",
   "metadata": {},
   "outputs": [],
   "source": [
    "(xTrain, yTrain), (xTest, yTest) = mnist.load_data()"
   ]
  },
  {
   "cell_type": "code",
   "execution_count": 41,
   "id": "1c7b3d91-6877-48c1-9ddb-5b7d84784928",
   "metadata": {},
   "outputs": [
    {
     "data": {
      "text/plain": [
       "(60000, 28, 28)"
      ]
     },
     "execution_count": 41,
     "metadata": {},
     "output_type": "execute_result"
    }
   ],
   "source": [
    "xTrain.shape"
   ]
  },
  {
   "cell_type": "code",
   "execution_count": 42,
   "id": "5d6f7652-895d-4602-9bd3-5e56d5338e83",
   "metadata": {},
   "outputs": [
    {
     "data": {
      "text/plain": [
       "array([[  0,   0,   0,   0,   0,   0,   0,   0,   0,   0,   0,   0,   0,\n",
       "          0,   0,   0,   0,   0,   0,   0,   0,   0,   0,   0,   0,   0,\n",
       "          0,   0],\n",
       "       [  0,   0,   0,   0,   0,   0,   0,   0,   0,   0,   0,   0,   0,\n",
       "          0,   0,   0,   0,   0,   0,   0,   0,   0,   0,   0,   0,   0,\n",
       "          0,   0],\n",
       "       [  0,   0,   0,   0,   0,   0,   0,   0,   0,   0,   0,   0,   0,\n",
       "          0,   0,   0,   0,   0,   0,   0,   0,   0,   0,   0,   0,   0,\n",
       "          0,   0],\n",
       "       [  0,   0,   0,   0,   0,   0,   0,   0,   0,   0,   0,   0,   0,\n",
       "          0,   0,   0,   0,   0,   0,   0,   0,   0,   0,   0,   0,   0,\n",
       "          0,   0],\n",
       "       [  0,   0,   0,   0,   0,   0,   0,   0,   0,   0,   0,   0,   0,\n",
       "          0,   0,   0,   0,   0,   0,   0,   0,   0,   0,   0,   0,   0,\n",
       "          0,   0],\n",
       "       [  0,   0,   0,   0,   0,   0,   0,   0,   0,   0,   0,   0,   3,\n",
       "         18,  18,  18, 126, 136, 175,  26, 166, 255, 247, 127,   0,   0,\n",
       "          0,   0],\n",
       "       [  0,   0,   0,   0,   0,   0,   0,   0,  30,  36,  94, 154, 170,\n",
       "        253, 253, 253, 253, 253, 225, 172, 253, 242, 195,  64,   0,   0,\n",
       "          0,   0],\n",
       "       [  0,   0,   0,   0,   0,   0,   0,  49, 238, 253, 253, 253, 253,\n",
       "        253, 253, 253, 253, 251,  93,  82,  82,  56,  39,   0,   0,   0,\n",
       "          0,   0],\n",
       "       [  0,   0,   0,   0,   0,   0,   0,  18, 219, 253, 253, 253, 253,\n",
       "        253, 198, 182, 247, 241,   0,   0,   0,   0,   0,   0,   0,   0,\n",
       "          0,   0],\n",
       "       [  0,   0,   0,   0,   0,   0,   0,   0,  80, 156, 107, 253, 253,\n",
       "        205,  11,   0,  43, 154,   0,   0,   0,   0,   0,   0,   0,   0,\n",
       "          0,   0],\n",
       "       [  0,   0,   0,   0,   0,   0,   0,   0,   0,  14,   1, 154, 253,\n",
       "         90,   0,   0,   0,   0,   0,   0,   0,   0,   0,   0,   0,   0,\n",
       "          0,   0],\n",
       "       [  0,   0,   0,   0,   0,   0,   0,   0,   0,   0,   0, 139, 253,\n",
       "        190,   2,   0,   0,   0,   0,   0,   0,   0,   0,   0,   0,   0,\n",
       "          0,   0],\n",
       "       [  0,   0,   0,   0,   0,   0,   0,   0,   0,   0,   0,  11, 190,\n",
       "        253,  70,   0,   0,   0,   0,   0,   0,   0,   0,   0,   0,   0,\n",
       "          0,   0],\n",
       "       [  0,   0,   0,   0,   0,   0,   0,   0,   0,   0,   0,   0,  35,\n",
       "        241, 225, 160, 108,   1,   0,   0,   0,   0,   0,   0,   0,   0,\n",
       "          0,   0],\n",
       "       [  0,   0,   0,   0,   0,   0,   0,   0,   0,   0,   0,   0,   0,\n",
       "         81, 240, 253, 253, 119,  25,   0,   0,   0,   0,   0,   0,   0,\n",
       "          0,   0],\n",
       "       [  0,   0,   0,   0,   0,   0,   0,   0,   0,   0,   0,   0,   0,\n",
       "          0,  45, 186, 253, 253, 150,  27,   0,   0,   0,   0,   0,   0,\n",
       "          0,   0],\n",
       "       [  0,   0,   0,   0,   0,   0,   0,   0,   0,   0,   0,   0,   0,\n",
       "          0,   0,  16,  93, 252, 253, 187,   0,   0,   0,   0,   0,   0,\n",
       "          0,   0],\n",
       "       [  0,   0,   0,   0,   0,   0,   0,   0,   0,   0,   0,   0,   0,\n",
       "          0,   0,   0,   0, 249, 253, 249,  64,   0,   0,   0,   0,   0,\n",
       "          0,   0],\n",
       "       [  0,   0,   0,   0,   0,   0,   0,   0,   0,   0,   0,   0,   0,\n",
       "          0,  46, 130, 183, 253, 253, 207,   2,   0,   0,   0,   0,   0,\n",
       "          0,   0],\n",
       "       [  0,   0,   0,   0,   0,   0,   0,   0,   0,   0,   0,   0,  39,\n",
       "        148, 229, 253, 253, 253, 250, 182,   0,   0,   0,   0,   0,   0,\n",
       "          0,   0],\n",
       "       [  0,   0,   0,   0,   0,   0,   0,   0,   0,   0,  24, 114, 221,\n",
       "        253, 253, 253, 253, 201,  78,   0,   0,   0,   0,   0,   0,   0,\n",
       "          0,   0],\n",
       "       [  0,   0,   0,   0,   0,   0,   0,   0,  23,  66, 213, 253, 253,\n",
       "        253, 253, 198,  81,   2,   0,   0,   0,   0,   0,   0,   0,   0,\n",
       "          0,   0],\n",
       "       [  0,   0,   0,   0,   0,   0,  18, 171, 219, 253, 253, 253, 253,\n",
       "        195,  80,   9,   0,   0,   0,   0,   0,   0,   0,   0,   0,   0,\n",
       "          0,   0],\n",
       "       [  0,   0,   0,   0,  55, 172, 226, 253, 253, 253, 253, 244, 133,\n",
       "         11,   0,   0,   0,   0,   0,   0,   0,   0,   0,   0,   0,   0,\n",
       "          0,   0],\n",
       "       [  0,   0,   0,   0, 136, 253, 253, 253, 212, 135, 132,  16,   0,\n",
       "          0,   0,   0,   0,   0,   0,   0,   0,   0,   0,   0,   0,   0,\n",
       "          0,   0],\n",
       "       [  0,   0,   0,   0,   0,   0,   0,   0,   0,   0,   0,   0,   0,\n",
       "          0,   0,   0,   0,   0,   0,   0,   0,   0,   0,   0,   0,   0,\n",
       "          0,   0],\n",
       "       [  0,   0,   0,   0,   0,   0,   0,   0,   0,   0,   0,   0,   0,\n",
       "          0,   0,   0,   0,   0,   0,   0,   0,   0,   0,   0,   0,   0,\n",
       "          0,   0],\n",
       "       [  0,   0,   0,   0,   0,   0,   0,   0,   0,   0,   0,   0,   0,\n",
       "          0,   0,   0,   0,   0,   0,   0,   0,   0,   0,   0,   0,   0,\n",
       "          0,   0]], dtype=uint8)"
      ]
     },
     "execution_count": 42,
     "metadata": {},
     "output_type": "execute_result"
    }
   ],
   "source": [
    "xTrain[0]"
   ]
  },
  {
   "cell_type": "code",
   "execution_count": 43,
   "id": "1f4049e4-7e81-46e5-a637-21cf46d02d3c",
   "metadata": {},
   "outputs": [
    {
     "data": {
      "text/plain": [
       "<matplotlib.image.AxesImage at 0x24e74f24a40>"
      ]
     },
     "execution_count": 43,
     "metadata": {},
     "output_type": "execute_result"
    },
    {
     "data": {
      "image/png": "[encoded data removed]",
      "text/plain": [
       "<Figure size 640x480 with 1 Axes>"
      ]
     },
     "metadata": {},
     "output_type": "display_data"
    }
   ],
   "source": [
    "plt.imshow(xTrain[0])"
   ]
  },
  {
   "cell_type": "code",
   "execution_count": 44,
   "id": "4998fb10-f717-429e-bfac-6a204180a157",
   "metadata": {},
   "outputs": [
    {
     "data": {
      "text/plain": [
       "5"
      ]
     },
     "execution_count": 44,
     "metadata": {},
     "output_type": "execute_result"
    }
   ],
   "source": [
    "yTrain[0]"
   ]
  },
  {
   "cell_type": "code",
   "execution_count": 45,
   "id": "66bc8c88-0b56-4c50-a6c4-be46308621ff",
   "metadata": {},
   "outputs": [
    {
     "data": {
      "text/plain": [
       "<matplotlib.image.AxesImage at 0x24e74f648c0>"
      ]
     },
     "execution_count": 45,
     "metadata": {},
     "output_type": "execute_result"
    },
    {
     "data": {
      "image/png": "[encoded data removed]",
      "text/plain": [
       "<Figure size 640x480 with 1 Axes>"
      ]
     },
     "metadata": {},
     "output_type": "display_data"
    }
   ],
   "source": [
    "plt.imshow(xTest[0])"
   ]
  },
  {
   "cell_type": "code",
   "execution_count": 46,
   "id": "f9add328-bb92-4782-a324-9eac648a5e9a",
   "metadata": {},
   "outputs": [
    {
     "data": {
      "text/plain": [
       "7"
      ]
     },
     "execution_count": 46,
     "metadata": {},
     "output_type": "execute_result"
    }
   ],
   "source": [
    "yTest[0]"
   ]
  },
  {
   "cell_type": "code",
   "execution_count": 47,
   "id": "cc74058e-e6e3-4ad1-9627-b1f9db49baa5",
   "metadata": {},
   "outputs": [],
   "source": [
    "num_pixels = xTrain.shape[1] * xTrain.shape[2] # Find size of one-dimensional vector\n",
    "xTrain = xTrain.reshape(xTrain.shape[0], num_pixels).astype('float32')\n",
    "xTest = xTest.reshape(xTest.shape[0], num_pixels).astype('float32')"
   ]
  },
  {
   "cell_type": "code",
   "execution_count": 48,
   "id": "24858dbf-ea54-451e-8191-835f1b01180a",
   "metadata": {},
   "outputs": [
    {
     "name": "stdout",
     "output_type": "stream",
     "text": [
      "10\n"
     ]
    }
   ],
   "source": [
    "xTrain /= 255\n",
    "xTest /= 255\n",
    "yTrain = to_categorical(yTrain)\n",
    "yTest = to_categorical(yTest)\n",
    "num_classes = yTest.shape[1]\n",
    "print(num_classes)"
   ]
  },
  {
   "cell_type": "code",
   "execution_count": 49,
   "id": "07b8b8d7-a469-4efa-95ff-d8f6393c9269",
   "metadata": {},
   "outputs": [],
   "source": [
    "def classification_model():\n",
    "    model = Sequential()\n",
    "    model.add(Input(shape = (num_pixels,)))\n",
    "    model.add(Dense(num_pixels, activation = 'relu'))\n",
    "    model.add(Dense(100, activation = 'relu'))\n",
    "    model.add(Dense(num_classes, activation = 'softmax'))\n",
    "    model.compile(optimizer = 'adam', loss = 'categorical_crossentropy', metrics = ['accuracy'])\n",
    "    return model"
   ]
  },
  {
   "cell_type": "code",
   "execution_count": 67,
   "id": "79a7ed15-88aa-4e1b-9641-6231b0eae314",
   "metadata": {},
   "outputs": [
    {
     "name": "stdout",
     "output_type": "stream",
     "text": [
      "Epoch 1/100\n",
      "1875/1875 - 8s - 4ms/step - accuracy: 0.9442 - loss: 0.1844 - val_accuracy: 0.9695 - val_loss: 0.0984\n",
      "Epoch 2/100\n",
      "1875/1875 - 7s - 4ms/step - accuracy: 0.9764 - loss: 0.0768 - val_accuracy: 0.9666 - val_loss: 0.1026\n",
      "Epoch 3/100\n",
      "1875/1875 - 7s - 4ms/step - accuracy: 0.9829 - loss: 0.0541 - val_accuracy: 0.9770 - val_loss: 0.0778\n",
      "Epoch 4/100\n",
      "1875/1875 - 7s - 4ms/step - accuracy: 0.9872 - loss: 0.0403 - val_accuracy: 0.9780 - val_loss: 0.0776\n",
      "Epoch 5/100\n",
      "1875/1875 - 7s - 4ms/step - accuracy: 0.9906 - loss: 0.0294 - val_accuracy: 0.9800 - val_loss: 0.0749\n",
      "Epoch 6/100\n",
      "1875/1875 - 7s - 4ms/step - accuracy: 0.9916 - loss: 0.0259 - val_accuracy: 0.9775 - val_loss: 0.0821\n",
      "Epoch 7/100\n",
      "1875/1875 - 7s - 4ms/step - accuracy: 0.9920 - loss: 0.0243 - val_accuracy: 0.9713 - val_loss: 0.1129\n",
      "Epoch 8/100\n",
      "1875/1875 - 7s - 4ms/step - accuracy: 0.9940 - loss: 0.0193 - val_accuracy: 0.9787 - val_loss: 0.0892\n",
      "Epoch 9/100\n",
      "1875/1875 - 7s - 4ms/step - accuracy: 0.9947 - loss: 0.0165 - val_accuracy: 0.9804 - val_loss: 0.0851\n",
      "Epoch 10/100\n",
      "1875/1875 - 7s - 4ms/step - accuracy: 0.9949 - loss: 0.0157 - val_accuracy: 0.9799 - val_loss: 0.1088\n",
      "Epoch 11/100\n",
      "1875/1875 - 7s - 4ms/step - accuracy: 0.9951 - loss: 0.0162 - val_accuracy: 0.9794 - val_loss: 0.0949\n",
      "Epoch 12/100\n",
      "1875/1875 - 7s - 4ms/step - accuracy: 0.9955 - loss: 0.0146 - val_accuracy: 0.9797 - val_loss: 0.0953\n",
      "Epoch 13/100\n",
      "1875/1875 - 7s - 4ms/step - accuracy: 0.9968 - loss: 0.0113 - val_accuracy: 0.9822 - val_loss: 0.0938\n",
      "Epoch 14/100\n",
      "1875/1875 - 7s - 4ms/step - accuracy: 0.9962 - loss: 0.0127 - val_accuracy: 0.9787 - val_loss: 0.1100\n",
      "Epoch 15/100\n",
      "1875/1875 - 7s - 4ms/step - accuracy: 0.9960 - loss: 0.0128 - val_accuracy: 0.9819 - val_loss: 0.1005\n",
      "Epoch 16/100\n",
      "1875/1875 - 7s - 4ms/step - accuracy: 0.9977 - loss: 0.0076 - val_accuracy: 0.9826 - val_loss: 0.1116\n",
      "Epoch 17/100\n",
      "1875/1875 - 7s - 4ms/step - accuracy: 0.9964 - loss: 0.0128 - val_accuracy: 0.9847 - val_loss: 0.0902\n",
      "Epoch 18/100\n",
      "1875/1875 - 7s - 4ms/step - accuracy: 0.9975 - loss: 0.0085 - val_accuracy: 0.9822 - val_loss: 0.1223\n",
      "Epoch 19/100\n",
      "1875/1875 - 7s - 4ms/step - accuracy: 0.9971 - loss: 0.0100 - val_accuracy: 0.9806 - val_loss: 0.1172\n",
      "Epoch 20/100\n",
      "1875/1875 - 7s - 4ms/step - accuracy: 0.9973 - loss: 0.0104 - val_accuracy: 0.9829 - val_loss: 0.1179\n",
      "Epoch 21/100\n",
      "1875/1875 - 7s - 4ms/step - accuracy: 0.9977 - loss: 0.0083 - val_accuracy: 0.9815 - val_loss: 0.1245\n",
      "Epoch 22/100\n",
      "1875/1875 - 7s - 4ms/step - accuracy: 0.9973 - loss: 0.0099 - val_accuracy: 0.9779 - val_loss: 0.1616\n",
      "Epoch 23/100\n",
      "1875/1875 - 7s - 4ms/step - accuracy: 0.9977 - loss: 0.0078 - val_accuracy: 0.9832 - val_loss: 0.1037\n",
      "Epoch 24/100\n",
      "1875/1875 - 7s - 4ms/step - accuracy: 0.9977 - loss: 0.0081 - val_accuracy: 0.9805 - val_loss: 0.1550\n",
      "Epoch 25/100\n",
      "1875/1875 - 7s - 4ms/step - accuracy: 0.9972 - loss: 0.0122 - val_accuracy: 0.9830 - val_loss: 0.1332\n",
      "Epoch 26/100\n",
      "1875/1875 - 7s - 4ms/step - accuracy: 0.9981 - loss: 0.0078 - val_accuracy: 0.9827 - val_loss: 0.1275\n",
      "Epoch 27/100\n",
      "1875/1875 - 7s - 4ms/step - accuracy: 0.9978 - loss: 0.0084 - val_accuracy: 0.9803 - val_loss: 0.1486\n",
      "Epoch 28/100\n",
      "1875/1875 - 7s - 4ms/step - accuracy: 0.9984 - loss: 0.0072 - val_accuracy: 0.9807 - val_loss: 0.1594\n",
      "Epoch 29/100\n",
      "1875/1875 - 7s - 4ms/step - accuracy: 0.9978 - loss: 0.0092 - val_accuracy: 0.9795 - val_loss: 0.1775\n",
      "Epoch 30/100\n",
      "1875/1875 - 7s - 4ms/step - accuracy: 0.9980 - loss: 0.0087 - val_accuracy: 0.9827 - val_loss: 0.1407\n",
      "Epoch 31/100\n",
      "1875/1875 - 7s - 4ms/step - accuracy: 0.9987 - loss: 0.0050 - val_accuracy: 0.9799 - val_loss: 0.1784\n",
      "Epoch 32/100\n",
      "1875/1875 - 7s - 4ms/step - accuracy: 0.9983 - loss: 0.0064 - val_accuracy: 0.9820 - val_loss: 0.1719\n",
      "Epoch 33/100\n",
      "1875/1875 - 7s - 4ms/step - accuracy: 0.9984 - loss: 0.0069 - val_accuracy: 0.9816 - val_loss: 0.1943\n",
      "Epoch 34/100\n",
      "1875/1875 - 7s - 4ms/step - accuracy: 0.9977 - loss: 0.0102 - val_accuracy: 0.9806 - val_loss: 0.1974\n",
      "Epoch 35/100\n",
      "1875/1875 - 7s - 4ms/step - accuracy: 0.9983 - loss: 0.0080 - val_accuracy: 0.9817 - val_loss: 0.1828\n",
      "Epoch 36/100\n",
      "1875/1875 - 8s - 4ms/step - accuracy: 0.9981 - loss: 0.0078 - val_accuracy: 0.9810 - val_loss: 0.1761\n",
      "Epoch 37/100\n",
      "1875/1875 - 8s - 4ms/step - accuracy: 0.9979 - loss: 0.0087 - val_accuracy: 0.9803 - val_loss: 0.2054\n",
      "Epoch 38/100\n",
      "1875/1875 - 7s - 4ms/step - accuracy: 0.9985 - loss: 0.0064 - val_accuracy: 0.9838 - val_loss: 0.1554\n",
      "Epoch 39/100\n",
      "1875/1875 - 7s - 4ms/step - accuracy: 0.9983 - loss: 0.0068 - val_accuracy: 0.9833 - val_loss: 0.1705\n",
      "Epoch 40/100\n",
      "1875/1875 - 7s - 4ms/step - accuracy: 0.9986 - loss: 0.0063 - val_accuracy: 0.9848 - val_loss: 0.1532\n",
      "Epoch 41/100\n",
      "1875/1875 - 7s - 4ms/step - accuracy: 0.9987 - loss: 0.0056 - val_accuracy: 0.9840 - val_loss: 0.1903\n",
      "Epoch 42/100\n",
      "1875/1875 - 7s - 4ms/step - accuracy: 0.9985 - loss: 0.0065 - val_accuracy: 0.9807 - val_loss: 0.1866\n",
      "Epoch 43/100\n",
      "1875/1875 - 8s - 4ms/step - accuracy: 0.9983 - loss: 0.0089 - val_accuracy: 0.9801 - val_loss: 0.2133\n",
      "Epoch 44/100\n",
      "1875/1875 - 7s - 4ms/step - accuracy: 0.9986 - loss: 0.0074 - val_accuracy: 0.9834 - val_loss: 0.1894\n",
      "Epoch 45/100\n",
      "1875/1875 - 7s - 4ms/step - accuracy: 0.9988 - loss: 0.0059 - val_accuracy: 0.9818 - val_loss: 0.2088\n",
      "Epoch 46/100\n",
      "1875/1875 - 7s - 4ms/step - accuracy: 0.9984 - loss: 0.0085 - val_accuracy: 0.9838 - val_loss: 0.1728\n",
      "Epoch 47/100\n",
      "1875/1875 - 7s - 4ms/step - accuracy: 0.9987 - loss: 0.0054 - val_accuracy: 0.9825 - val_loss: 0.2048\n",
      "Epoch 48/100\n",
      "1875/1875 - 7s - 4ms/step - accuracy: 0.9986 - loss: 0.0082 - val_accuracy: 0.9841 - val_loss: 0.1870\n",
      "Epoch 49/100\n",
      "1875/1875 - 7s - 4ms/step - accuracy: 0.9985 - loss: 0.0072 - val_accuracy: 0.9803 - val_loss: 0.2476\n",
      "Epoch 50/100\n",
      "1875/1875 - 7s - 4ms/step - accuracy: 0.9985 - loss: 0.0084 - val_accuracy: 0.9809 - val_loss: 0.2409\n",
      "Epoch 51/100\n",
      "1875/1875 - 7s - 4ms/step - accuracy: 0.9987 - loss: 0.0076 - val_accuracy: 0.9846 - val_loss: 0.1810\n",
      "Epoch 52/100\n",
      "1875/1875 - 7s - 4ms/step - accuracy: 0.9987 - loss: 0.0072 - val_accuracy: 0.9831 - val_loss: 0.1960\n",
      "Epoch 53/100\n",
      "1875/1875 - 7s - 4ms/step - accuracy: 0.9987 - loss: 0.0071 - val_accuracy: 0.9834 - val_loss: 0.1995\n",
      "Epoch 54/100\n",
      "1875/1875 - 7s - 4ms/step - accuracy: 0.9990 - loss: 0.0058 - val_accuracy: 0.9826 - val_loss: 0.2080\n",
      "Epoch 55/100\n",
      "1875/1875 - 7s - 4ms/step - accuracy: 0.9988 - loss: 0.0064 - val_accuracy: 0.9843 - val_loss: 0.1954\n",
      "Epoch 56/100\n",
      "1875/1875 - 7s - 4ms/step - accuracy: 0.9990 - loss: 0.0054 - val_accuracy: 0.9833 - val_loss: 0.2225\n",
      "Epoch 57/100\n",
      "1875/1875 - 7s - 4ms/step - accuracy: 0.9989 - loss: 0.0066 - val_accuracy: 0.9781 - val_loss: 0.2512\n",
      "Epoch 58/100\n",
      "1875/1875 - 7s - 4ms/step - accuracy: 0.9986 - loss: 0.0067 - val_accuracy: 0.9808 - val_loss: 0.2573\n",
      "Epoch 59/100\n",
      "1875/1875 - 7s - 4ms/step - accuracy: 0.9992 - loss: 0.0046 - val_accuracy: 0.9844 - val_loss: 0.2319\n",
      "Epoch 60/100\n",
      "1875/1875 - 7s - 4ms/step - accuracy: 0.9995 - loss: 0.0023 - val_accuracy: 0.9821 - val_loss: 0.2631\n",
      "Epoch 61/100\n",
      "1875/1875 - 7s - 4ms/step - accuracy: 0.9983 - loss: 0.0091 - val_accuracy: 0.9819 - val_loss: 0.2266\n",
      "Epoch 62/100\n",
      "1875/1875 - 7s - 4ms/step - accuracy: 0.9991 - loss: 0.0043 - val_accuracy: 0.9831 - val_loss: 0.2408\n",
      "Epoch 63/100\n",
      "1875/1875 - 7s - 4ms/step - accuracy: 0.9990 - loss: 0.0042 - val_accuracy: 0.9848 - val_loss: 0.2593\n",
      "Epoch 64/100\n",
      "1875/1875 - 7s - 4ms/step - accuracy: 0.9990 - loss: 0.0058 - val_accuracy: 0.9830 - val_loss: 0.2814\n",
      "Epoch 65/100\n",
      "1875/1875 - 7s - 4ms/step - accuracy: 0.9987 - loss: 0.0092 - val_accuracy: 0.9845 - val_loss: 0.2467\n",
      "Epoch 66/100\n",
      "1875/1875 - 7s - 4ms/step - accuracy: 0.9990 - loss: 0.0054 - val_accuracy: 0.9846 - val_loss: 0.2625\n",
      "Epoch 67/100\n",
      "1875/1875 - 7s - 4ms/step - accuracy: 0.9991 - loss: 0.0048 - val_accuracy: 0.9810 - val_loss: 0.2922\n",
      "Epoch 68/100\n",
      "1875/1875 - 7s - 4ms/step - accuracy: 0.9989 - loss: 0.0061 - val_accuracy: 0.9801 - val_loss: 0.3030\n",
      "Epoch 69/100\n",
      "1875/1875 - 7s - 4ms/step - accuracy: 0.9991 - loss: 0.0050 - val_accuracy: 0.9792 - val_loss: 0.3596\n",
      "Epoch 70/100\n",
      "1875/1875 - 7s - 4ms/step - accuracy: 0.9991 - loss: 0.0051 - val_accuracy: 0.9839 - val_loss: 0.2542\n",
      "Epoch 71/100\n",
      "1875/1875 - 7s - 4ms/step - accuracy: 0.9993 - loss: 0.0042 - val_accuracy: 0.9832 - val_loss: 0.2867\n",
      "Epoch 72/100\n",
      "1875/1875 - 7s - 4ms/step - accuracy: 0.9988 - loss: 0.0069 - val_accuracy: 0.9852 - val_loss: 0.2575\n",
      "Epoch 73/100\n",
      "1875/1875 - 7s - 4ms/step - accuracy: 0.9990 - loss: 0.0086 - val_accuracy: 0.9843 - val_loss: 0.2494\n",
      "Epoch 74/100\n",
      "1875/1875 - 7s - 4ms/step - accuracy: 0.9993 - loss: 0.0041 - val_accuracy: 0.9826 - val_loss: 0.3191\n",
      "Epoch 75/100\n",
      "1875/1875 - 7s - 4ms/step - accuracy: 0.9987 - loss: 0.0070 - val_accuracy: 0.9838 - val_loss: 0.2646\n",
      "Epoch 76/100\n",
      "1875/1875 - 7s - 4ms/step - accuracy: 0.9991 - loss: 0.0052 - val_accuracy: 0.9846 - val_loss: 0.2565\n",
      "Epoch 77/100\n",
      "1875/1875 - 7s - 4ms/step - accuracy: 0.9989 - loss: 0.0066 - val_accuracy: 0.9823 - val_loss: 0.2763\n",
      "Epoch 78/100\n",
      "1875/1875 - 7s - 4ms/step - accuracy: 0.9990 - loss: 0.0065 - val_accuracy: 0.9845 - val_loss: 0.2677\n",
      "Epoch 79/100\n",
      "1875/1875 - 7s - 4ms/step - accuracy: 0.9990 - loss: 0.0058 - val_accuracy: 0.9843 - val_loss: 0.2976\n",
      "Epoch 80/100\n",
      "1875/1875 - 7s - 4ms/step - accuracy: 0.9989 - loss: 0.0060 - val_accuracy: 0.9861 - val_loss: 0.2433\n",
      "Epoch 81/100\n",
      "1875/1875 - 7s - 4ms/step - accuracy: 0.9990 - loss: 0.0065 - val_accuracy: 0.9832 - val_loss: 0.2994\n",
      "Epoch 82/100\n",
      "1875/1875 - 7s - 4ms/step - accuracy: 0.9989 - loss: 0.0081 - val_accuracy: 0.9843 - val_loss: 0.2931\n",
      "Epoch 83/100\n",
      "1875/1875 - 7s - 4ms/step - accuracy: 0.9993 - loss: 0.0040 - val_accuracy: 0.9835 - val_loss: 0.3012\n",
      "Epoch 84/100\n",
      "1875/1875 - 7s - 4ms/step - accuracy: 0.9998 - loss: 0.0010 - val_accuracy: 0.9839 - val_loss: 0.3275\n",
      "Epoch 85/100\n",
      "1875/1875 - 7s - 4ms/step - accuracy: 0.9988 - loss: 0.0118 - val_accuracy: 0.9829 - val_loss: 0.2907\n",
      "Epoch 86/100\n",
      "1875/1875 - 7s - 4ms/step - accuracy: 0.9990 - loss: 0.0068 - val_accuracy: 0.9836 - val_loss: 0.3004\n",
      "Epoch 87/100\n",
      "1875/1875 - 8s - 4ms/step - accuracy: 0.9992 - loss: 0.0043 - val_accuracy: 0.9828 - val_loss: 0.2947\n",
      "Epoch 88/100\n",
      "1875/1875 - 8s - 4ms/step - accuracy: 0.9991 - loss: 0.0055 - val_accuracy: 0.9826 - val_loss: 0.3003\n",
      "Epoch 89/100\n",
      "1875/1875 - 7s - 4ms/step - accuracy: 0.9991 - loss: 0.0061 - val_accuracy: 0.9839 - val_loss: 0.3276\n",
      "Epoch 90/100\n",
      "1875/1875 - 7s - 4ms/step - accuracy: 0.9991 - loss: 0.0053 - val_accuracy: 0.9838 - val_loss: 0.2973\n",
      "Epoch 91/100\n",
      "1875/1875 - 7s - 4ms/step - accuracy: 0.9992 - loss: 0.0038 - val_accuracy: 0.9831 - val_loss: 0.3029\n",
      "Epoch 92/100\n",
      "1875/1875 - 7s - 4ms/step - accuracy: 0.9990 - loss: 0.0054 - val_accuracy: 0.9834 - val_loss: 0.3000\n",
      "Epoch 93/100\n",
      "1875/1875 - 7s - 4ms/step - accuracy: 0.9991 - loss: 0.0068 - val_accuracy: 0.9806 - val_loss: 0.3404\n",
      "Epoch 94/100\n",
      "1875/1875 - 7s - 4ms/step - accuracy: 0.9991 - loss: 0.0069 - val_accuracy: 0.9839 - val_loss: 0.3000\n",
      "Epoch 95/100\n",
      "1875/1875 - 7s - 4ms/step - accuracy: 0.9991 - loss: 0.0072 - val_accuracy: 0.9843 - val_loss: 0.3075\n",
      "Epoch 96/100\n",
      "1875/1875 - 7s - 4ms/step - accuracy: 0.9996 - loss: 0.0027 - val_accuracy: 0.9835 - val_loss: 0.3387\n",
      "Epoch 97/100\n",
      "1875/1875 - 7s - 4ms/step - accuracy: 0.9990 - loss: 0.0055 - val_accuracy: 0.9826 - val_loss: 0.3575\n",
      "Epoch 98/100\n",
      "1875/1875 - 7s - 4ms/step - accuracy: 0.9990 - loss: 0.0071 - val_accuracy: 0.9837 - val_loss: 0.3215\n",
      "Epoch 99/100\n",
      "1875/1875 - 7s - 4ms/step - accuracy: 0.9994 - loss: 0.0058 - val_accuracy: 0.9849 - val_loss: 0.3033\n",
      "Epoch 100/100\n",
      "1875/1875 - 7s - 4ms/step - accuracy: 0.9995 - loss: 0.0035 - val_accuracy: 0.9824 - val_loss: 0.3875\n"
     ]
    }
   ],
   "source": [
    "model = classification_model()\n",
    "model.fit(xTrain, yTrain, validation_data = (xTest, yTest), epochs = 100, verbose = 2)\n",
    "scores = model.evaluate(xTest, yTest, verbose = 0)"
   ]
  },
  {
   "cell_type": "code",
   "execution_count": 68,
   "id": "d841e415-4590-4636-be51-10a1d4c4b1ab",
   "metadata": {},
   "outputs": [
    {
     "name": "stdout",
     "output_type": "stream",
     "text": [
      "Accuracy  0.9824000000953674 \n",
      " Error  0.01759999990463257\n"
     ]
    }
   ],
   "source": [
    "print('Accuracy ', scores[1], '\\n Error ', 1-scores[1])"
   ]
  },
  {
   "cell_type": "code",
   "execution_count": 69,
   "id": "06dbd5b4-6e54-4263-bbad-40dfdb716462",
   "metadata": {},
   "outputs": [],
   "source": [
    "model.save('classification_model.keras')"
   ]
  },
  {
   "cell_type": "code",
   "execution_count": 70,
   "id": "a8586825-60b8-46ae-9365-e2d1960cad46",
   "metadata": {},
   "outputs": [],
   "source": [
    "pretrained_model = keras.saving.load_model('classification_model.keras')"
   ]
  },
  {
   "cell_type": "code",
   "execution_count": 71,
   "id": "2b9f4d80-0937-4f03-9b3b-b420f7fefc3d",
   "metadata": {},
   "outputs": [
    {
     "name": "stdout",
     "output_type": "stream",
     "text": [
      "\u001b[1m313/313\u001b[0m \u001b[32m━━━━━━━━━━━━━━━━━━━━\u001b[0m\u001b[37m\u001b[0m \u001b[1m0s\u001b[0m 1ms/step\n"
     ]
    }
   ],
   "source": [
    "predictions = model.predict(xTest)  # Predict probabilities for each class\n"
   ]
  },
  {
   "cell_type": "code",
   "execution_count": 72,
   "id": "6734a589-a6bc-4446-816b-34acea28d6a5",
   "metadata": {},
   "outputs": [
    {
     "name": "stdout",
     "output_type": "stream",
     "text": [
      "[7 2 1 0 4 1 4 9 5 9]\n"
     ]
    }
   ],
   "source": [
    "import numpy as np\n",
    "\n",
    "predicted_labels = np.argmax(predictions, axis=1)  # Get class with highest probability\n",
    "print(predicted_labels[:10])  # Prints the predicted labels for the first 10 test images\n"
   ]
  },
  {
   "cell_type": "code",
   "execution_count": 73,
   "id": "263359b5-d175-40c8-829d-99d59a632841",
   "metadata": {},
   "outputs": [
    {
     "name": "stdout",
     "output_type": "stream",
     "text": [
      "\u001b[1m1/1\u001b[0m \u001b[32m━━━━━━━━━━━━━━━━━━━━\u001b[0m\u001b[37m\u001b[0m \u001b[1m0s\u001b[0m 36ms/step\n",
      "Predicted class: 9\n"
     ]
    },
    {
     "data": {
      "image/png": "[encoded data removed]",
      "text/plain": [
       "<Figure size 640x480 with 1 Axes>"
      ]
     },
     "metadata": {},
     "output_type": "display_data"
    }
   ],
   "source": [
    "import matplotlib.pyplot as plt\n",
    "\n",
    "# Example: Use the first image from the test dataset\n",
    "image = xTest[1000].reshape(1, 784)  # Reshape to match input shape (1, 784)\n",
    "prediction = model.predict(image)\n",
    "\n",
    "# Get the predicted class\n",
    "predicted_class = np.argmax(prediction)\n",
    "print(f\"Predicted class: {predicted_class}\")\n",
    "\n",
    "# Display the image\n",
    "plt.imshow(xTest[1000].reshape(28, 28), cmap='gray')\n",
    "plt.title(f\"Predicted: {predicted_class}\")\n",
    "plt.show()\n"
   ]
  },
  {
   "cell_type": "code",
   "execution_count": 82,
   "id": "1bec9306-0b29-4f8c-8bba-d0c12b3d8018",
   "metadata": {},
   "outputs": [
    {
     "name": "stdout",
     "output_type": "stream",
     "text": [
      "\u001b[1m1/1\u001b[0m \u001b[32m━━━━━━━━━━━━━━━━━━━━\u001b[0m\u001b[37m\u001b[0m \u001b[1m0s\u001b[0m 35ms/step\n",
      "Predicted class for custom image: 9\n"
     ]
    },
    {
     "data": {
      "image/png": "[encoded data removed]",
      "text/plain": [
       "<Figure size 640x480 with 1 Axes>"
      ]
     },
     "metadata": {},
     "output_type": "display_data"
    }
   ],
   "source": [
    "# use model for custom handwritting\n",
    "from PIL import Image\n",
    "import numpy as np\n",
    "\n",
    "# Load and preprocess a custom image\n",
    "custom_image = Image.open('digit.png').convert('L')  # Load in grayscale\n",
    "custom_image = custom_image.resize((28, 28))  # Resize to 28x28\n",
    "plt.imshow(custom_image)\n",
    "custom_image = np.array(custom_image).reshape(1, 784)  # Flatten to (1, 784)\n",
    "custom_image = custom_image / 255.0  # Normalize\n",
    "\n",
    "prediction = model.predict(custom_image)\n",
    "predicted_class = np.argmax(prediction)\n",
    "print(f\"Predicted class for custom image: {predicted_class}\")\n"
   ]
  },
  {
   "cell_type": "code",
   "execution_count": null,
   "id": "66ca3a23-8236-4048-92e1-572cbb77331f",
   "metadata": {},
   "outputs": [],
   "source": []
  }
 ],
 "metadata": {
  "kernelspec": {
   "display_name": "Python 3 (ipykernel)",
   "language": "python",
   "name": "python3"
  },
  "language_info": {
   "codemirror_mode": {
    "name": "ipython",
    "version": 3
   },
   "file_extension": ".py",
   "mimetype": "text/x-python",
   "name": "python",
   "nbconvert_exporter": "python",
   "pygments_lexer": "ipython3",
   "version": "3.12.3"
  }
 },
 "nbformat": 4,
 "nbformat_minor": 5
}
