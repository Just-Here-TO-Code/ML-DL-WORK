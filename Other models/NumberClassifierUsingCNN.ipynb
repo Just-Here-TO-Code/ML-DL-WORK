{
 "cells": [
  {
   "cell_type": "code",
   "execution_count": 1,
   "id": "28bbf58b-4871-4cb7-84b2-2515cbdba558",
   "metadata": {},
   "outputs": [],
   "source": [
    "from keras.models import Sequential\n",
    "from keras.layers import Dense\n",
    "from keras.layers import Input\n",
    "from keras.utils import to_categorical"
   ]
  },
  {
   "cell_type": "code",
   "execution_count": 2,
   "id": "ee4b9688-cf79-4b1c-97a7-98aee6f1d06a",
   "metadata": {},
   "outputs": [],
   "source": [
    "from keras.layers import Conv2D\n",
    "from keras.layers import MaxPooling2D\n",
    "from keras.layers import Flatten"
   ]
  },
  {
   "cell_type": "markdown",
   "id": "cc0cc95a-6022-4e8c-a8a8-9e459833fa44",
   "metadata": {},
   "source": [
    "<h1>CNN WITH ONE SET OF CONVOLUTIONAL AND POOLING LAYER</h1>"
   ]
  },
  {
   "cell_type": "code",
   "execution_count": 4,
   "id": "591394d5-cdeb-406b-a4ef-a9ce92a42243",
   "metadata": {},
   "outputs": [],
   "source": [
    "from keras.datasets import mnist\n",
    "\n",
    "(xTrain, yTrain), (xTest, yTest) = mnist.load_data()\n",
    "xTrain = xTrain.reshape(xTrain.shape[0], 28, 28, 1).astype('float32')\n",
    "xTest = xTest.reshape(xTest.shape[0], 28, 28, 1).astype('float32')"
   ]
  },
  {
   "cell_type": "code",
   "execution_count": 5,
   "id": "8de4bb6a-4cc1-4e3f-a629-3f9ab6556307",
   "metadata": {},
   "outputs": [],
   "source": [
    "xTrain = xTrain / 255\n",
    "xTest = xTest / 255"
   ]
  },
  {
   "cell_type": "code",
   "execution_count": 6,
   "id": "aa440161-1c98-4d55-a659-6797392f246f",
   "metadata": {},
   "outputs": [],
   "source": [
    "yTrain = to_categorical(yTrain)\n",
    "yTest = to_categorical(yTest)\n",
    "num_classes = yTest.shape[1]"
   ]
  },
  {
   "cell_type": "code",
   "execution_count": 9,
   "id": "f6919fae-e94c-4406-991a-d9e626d01e0a",
   "metadata": {},
   "outputs": [],
   "source": [
    "def convolutional_model():\n",
    "    model = Sequential()\n",
    "    model.add(Input(shape = (28, 28, 1)))\n",
    "    model.add(Conv2D(16, (5, 5), strides = (1, 1), activation = 'relu'))\n",
    "    model.add(MaxPooling2D(pool_size = (2, 2), strides = (2, 2)))\n",
    "    model.add(Flatten())\n",
    "    model.add(Dense(100, activation = 'relu'))\n",
    "    model.add(Dense(num_classes, activation = 'softmax'))\n",
    "    model.compile(optimizer = 'adam', loss = 'categorical_crossentropy', metrics = ['accuracy'])\n",
    "    return model"
   ]
  },
  {
   "cell_type": "code",
   "execution_count": 10,
   "id": "4ff88264-30bf-4089-b2d8-afd56ea3b396",
   "metadata": {},
   "outputs": [
    {
     "name": "stdout",
     "output_type": "stream",
     "text": [
      "Epoch 1/10\n",
      "300/300 - 4s - 13ms/step - accuracy: 0.9168 - loss: 0.2956 - val_accuracy: 0.9741 - val_loss: 0.0894\n",
      "Epoch 2/10\n",
      "300/300 - 2s - 8ms/step - accuracy: 0.9761 - loss: 0.0832 - val_accuracy: 0.9824 - val_loss: 0.0584\n",
      "Epoch 3/10\n",
      "300/300 - 2s - 8ms/step - accuracy: 0.9827 - loss: 0.0584 - val_accuracy: 0.9825 - val_loss: 0.0511\n",
      "Epoch 4/10\n",
      "300/300 - 2s - 8ms/step - accuracy: 0.9865 - loss: 0.0449 - val_accuracy: 0.9872 - val_loss: 0.0407\n",
      "Epoch 5/10\n",
      "300/300 - 2s - 8ms/step - accuracy: 0.9884 - loss: 0.0374 - val_accuracy: 0.9862 - val_loss: 0.0420\n",
      "Epoch 6/10\n",
      "300/300 - 2s - 8ms/step - accuracy: 0.9900 - loss: 0.0316 - val_accuracy: 0.9878 - val_loss: 0.0381\n",
      "Epoch 7/10\n",
      "300/300 - 2s - 8ms/step - accuracy: 0.9920 - loss: 0.0268 - val_accuracy: 0.9885 - val_loss: 0.0370\n",
      "Epoch 8/10\n",
      "300/300 - 2s - 8ms/step - accuracy: 0.9933 - loss: 0.0220 - val_accuracy: 0.9884 - val_loss: 0.0365\n",
      "Epoch 9/10\n",
      "300/300 - 2s - 8ms/step - accuracy: 0.9943 - loss: 0.0184 - val_accuracy: 0.9883 - val_loss: 0.0371\n",
      "Epoch 10/10\n",
      "300/300 - 2s - 8ms/step - accuracy: 0.9957 - loss: 0.0154 - val_accuracy: 0.9885 - val_loss: 0.0362\n",
      "Accuracy:  0.9884999990463257 Error:  1.1500000953674316\n"
     ]
    }
   ],
   "source": [
    "model = convolutional_model()\n",
    "model.fit(xTrain, yTrain, validation_data = (xTest, yTest), epochs = 10, batch_size = 200, verbose = 2)\n",
    "scores = model.evaluate(xTest, yTest, verbose = 0)\n",
    "print(\"Accuracy: \", scores[1], \"Error: \", (100-scores[1]*100))"
   ]
  },
  {
   "cell_type": "markdown",
   "id": "1f54868d-67f8-4113-baec-3e14ab826635",
   "metadata": {},
   "source": [
    "<h1>CNN WITH TWO SETS OF CONVOLUTIONAL AND POOLING LAYERS</h1>"
   ]
  },
  {
   "cell_type": "code",
   "execution_count": 11,
   "id": "1362ba56-3c2d-4676-b70e-bd28341ae591",
   "metadata": {},
   "outputs": [],
   "source": [
    "def convolutional_model():\n",
    "    \n",
    "    # create model\n",
    "    model = Sequential()\n",
    "    model.add(Input(shape=(28, 28, 1)))\n",
    "    model.add(Conv2D(16, (5, 5), activation='relu'))\n",
    "    model.add(MaxPooling2D(pool_size=(2, 2), strides=(2, 2)))\n",
    "    \n",
    "    model.add(Conv2D(8, (2, 2), activation='relu'))\n",
    "    model.add(MaxPooling2D(pool_size=(2, 2), strides=(2, 2)))\n",
    "    \n",
    "    model.add(Flatten())\n",
    "    model.add(Dense(100, activation='relu'))\n",
    "    model.add(Dense(num_classes, activation='softmax'))\n",
    "    \n",
    "    # Compile model\n",
    "    model.compile(optimizer='adam', loss='categorical_crossentropy',  metrics=['accuracy'])\n",
    "    return model"
   ]
  },
  {
   "cell_type": "code",
   "execution_count": 12,
   "id": "eb996f31-9d6e-48f9-bb30-e90fd1664a2d",
   "metadata": {},
   "outputs": [
    {
     "name": "stdout",
     "output_type": "stream",
     "text": [
      "(60000, 28, 28, 1)      (10000, 28, 28, 1)\n"
     ]
    }
   ],
   "source": [
    "print(xTrain.shape, \"    \", xTest.shape)"
   ]
  },
  {
   "cell_type": "code",
   "execution_count": 15,
   "id": "1a85f281-0a6c-4c66-992b-ea3906fa0d2e",
   "metadata": {},
   "outputs": [
    {
     "name": "stdout",
     "output_type": "stream",
     "text": [
      "Epoch 1/10\n",
      "300/300 - 3s - 11ms/step - accuracy: 0.8737 - loss: 0.4648 - val_accuracy: 0.9572 - val_loss: 0.1462\n",
      "Epoch 2/10\n",
      "300/300 - 2s - 6ms/step - accuracy: 0.9619 - loss: 0.1293 - val_accuracy: 0.9728 - val_loss: 0.0867\n",
      "Epoch 3/10\n",
      "300/300 - 2s - 6ms/step - accuracy: 0.9724 - loss: 0.0915 - val_accuracy: 0.9785 - val_loss: 0.0687\n",
      "Epoch 4/10\n",
      "300/300 - 2s - 6ms/step - accuracy: 0.9776 - loss: 0.0739 - val_accuracy: 0.9804 - val_loss: 0.0616\n",
      "Epoch 5/10\n",
      "300/300 - 2s - 6ms/step - accuracy: 0.9811 - loss: 0.0617 - val_accuracy: 0.9828 - val_loss: 0.0503\n",
      "Epoch 6/10\n",
      "300/300 - 2s - 6ms/step - accuracy: 0.9833 - loss: 0.0542 - val_accuracy: 0.9851 - val_loss: 0.0457\n",
      "Epoch 7/10\n",
      "300/300 - 2s - 7ms/step - accuracy: 0.9851 - loss: 0.0480 - val_accuracy: 0.9867 - val_loss: 0.0422\n",
      "Epoch 8/10\n",
      "300/300 - 2s - 6ms/step - accuracy: 0.9866 - loss: 0.0439 - val_accuracy: 0.9872 - val_loss: 0.0400\n",
      "Epoch 9/10\n",
      "300/300 - 2s - 7ms/step - accuracy: 0.9877 - loss: 0.0400 - val_accuracy: 0.9885 - val_loss: 0.0358\n",
      "Epoch 10/10\n",
      "300/300 - 2s - 7ms/step - accuracy: 0.9892 - loss: 0.0353 - val_accuracy: 0.9867 - val_loss: 0.0387\n",
      "Accuracy: 0.9866999983787537 \n",
      " Error: 1.3300001621246338\n"
     ]
    }
   ],
   "source": [
    "# build the model\n",
    "model2 = convolutional_model()\n",
    "\n",
    "# fit the model\n",
    "model2.fit(xTrain, yTrain, validation_data=(xTest, yTest), epochs=10, batch_size=200, verbose=2)\n",
    "\n",
    "# evaluate the model\n",
    "scores = model2.evaluate(xTest, yTest, verbose=0)\n",
    "print(\"Accuracy: {} \\n Error: {}\".format(scores[1], 100-scores[1]*100))"
   ]
  },
  {
   "cell_type": "code",
   "execution_count": 17,
   "id": "bf9cdda1-0c0c-4fab-aa85-45f96d586ed6",
   "metadata": {},
   "outputs": [
    {
     "data": {
      "image/png": "[encoded data removed]",
      "text/plain": [
       "<Figure size 640x480 with 1 Axes>"
      ]
     },
     "metadata": {},
     "output_type": "display_data"
    },
    {
     "name": "stdout",
     "output_type": "stream",
     "text": [
      "\u001b[1m1/1\u001b[0m \u001b[32m━━━━━━━━━━━━━━━━━━━━\u001b[0m\u001b[37m\u001b[0m \u001b[1m0s\u001b[0m 79ms/step\n",
      "Predicted Class: 5\n"
     ]
    }
   ],
   "source": [
    "from PIL import Image\n",
    "import numpy as np\n",
    "import matplotlib.pyplot as plt\n",
    "\n",
    "# Load and preprocess the image\n",
    "def preprocess_image(image_path):\n",
    "    # Load the image in grayscale mode\n",
    "    image = Image.open(image_path).convert(\"L\")\n",
    "    \n",
    "    # Resize the image to 28x28 pixels\n",
    "    image = image.resize((28, 28))\n",
    "    \n",
    "    # Normalize pixel values (0-255 to 0-1)\n",
    "    image = np.array(image).astype('float32') / 255.0\n",
    "    \n",
    "    # Add batch and channel dimensions to match input shape\n",
    "    image = np.expand_dims(image, axis=0)  # Add batch dimension\n",
    "    image = np.expand_dims(image, axis=-1)  # Add channel dimension (for grayscale)\n",
    "    \n",
    "    return image\n",
    "\n",
    "# Path to your image\n",
    "image_path = \"image.png\"\n",
    "\n",
    "# Preprocess the image\n",
    "processed_image = preprocess_image(image_path)\n",
    "\n",
    "# Show the image\n",
    "plt.imshow(processed_image.squeeze(), cmap=\"gray\")\n",
    "plt.title(\"Input Image\")\n",
    "plt.axis(\"off\")\n",
    "plt.show()\n",
    "\n",
    "# Use the model to predict the class\n",
    "predicted_class = model2.predict(processed_image)\n",
    "predicted_label = np.argmax(predicted_class)\n",
    "\n",
    "print(f\"Predicted Class: {predicted_label}\")\n"
   ]
  },
  {
   "cell_type": "code",
   "execution_count": null,
   "id": "7963ab80-347c-4247-9c94-8ad5c1b027ca",
   "metadata": {},
   "outputs": [],
   "source": [
    "model2.save()"
   ]
  }
 ],
 "metadata": {
  "kernelspec": {
   "display_name": "Python 3 (ipykernel)",
   "language": "python",
   "name": "python3"
  },
  "language_info": {
   "codemirror_mode": {
    "name": "ipython",
    "version": 3
   },
   "file_extension": ".py",
   "mimetype": "text/x-python",
   "name": "python",
   "nbconvert_exporter": "python",
   "pygments_lexer": "ipython3",
   "version": "3.12.3"
  }
 },
 "nbformat": 4,
 "nbformat_minor": 5
}
