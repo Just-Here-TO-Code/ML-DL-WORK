{
 "cells": [
  {
   "cell_type": "code",
   "execution_count": 1,
   "id": "bde67e78-9b24-4405-8cd0-74e355eb3b67",
   "metadata": {},
   "outputs": [
    {
     "name": "stdout",
     "output_type": "stream",
     "text": [
      "TensorFlow Version: 2.10.0\n",
      "NumPy Version: 1.23.5\n",
      "Built with CUDA: True\n",
      "GPU Available: [PhysicalDevice(name='/physical_device:GPU:0', device_type='GPU')]\n"
     ]
    }
   ],
   "source": [
    "import tensorflow as tf\n",
    "import numpy as np\n",
    "\n",
    "print(\"TensorFlow Version:\", tf.__version__)\n",
    "print(\"NumPy Version:\", np.__version__)\n",
    "print(\"Built with CUDA:\", tf.test.is_built_with_cuda())\n",
    "print(\"GPU Available:\", tf.config.list_physical_devices('GPU'))\n"
   ]
  },
  {
   "cell_type": "code",
   "execution_count": 2,
   "id": "a84de9c3-cae2-45e1-aac6-96c90b591f82",
   "metadata": {},
   "outputs": [
    {
     "name": "stdout",
     "output_type": "stream",
     "text": [
      "2.10.0\n"
     ]
    }
   ],
   "source": [
    "import tensorflow as tf\n",
    "print(tf.__version__)\n"
   ]
  },
  {
   "cell_type": "code",
   "execution_count": 3,
   "id": "4d636c43-dabc-4de7-b8f9-5fc5e056900a",
   "metadata": {},
   "outputs": [],
   "source": [
    "import tensorflow as tf\n",
    "import numpy as np\n",
    "from tensorflow.keras.layers import TextVectorization\n",
    "from tensorflow.keras.utils import get_file"
   ]
  },
  {
   "cell_type": "code",
   "execution_count": 4,
   "id": "e18b1e03-4ab0-4486-9498-e171ccc38716",
   "metadata": {},
   "outputs": [
    {
     "name": "stdout",
     "output_type": "stream",
     "text": [
      "First Citizen:\n",
      "Before we proceed any further, hear me speak.\n",
      "\n",
      "All:\n",
      "Speak, speak.\n",
      "\n",
      "First Citizen:\n",
      "You are all resolved rather to die than to famish?\n",
      "\n",
      "All:\n",
      "Resolved. resolved.\n",
      "\n",
      "First Citizen:\n",
      "First, you know Caius Marcius is chief enemy to the people.\n",
      "\n",
      "All:\n",
      "We know't, we know't.\n",
      "\n",
      "First Citizen:\n",
      "Let us kill him, and we'll have corn at our own price.\n",
      "Is't a verdict?\n",
      "\n",
      "All:\n",
      "No more talking on't; let it be done: away, away!\n",
      "\n",
      "Second Citizen:\n",
      "One word, good citizens.\n",
      "\n",
      "First Citizen:\n",
      "We are accounted poor citizens, the patricians good.\n",
      "What authority surfeits on would relieve us: if they\n",
      "would yield us but the superfluity, while it were\n",
      "wholesome, we might guess they relieved us humanely;\n",
      "but they think we are too dear: the leanness that\n",
      "afflicts us, the object of our misery, is as an\n",
      "inventory to particularise their abundance; our\n",
      "sufferance is a gain to them Let us revenge this with\n",
      "our pikes, ere we become rakes: for the gods know I\n",
      "speak this in hunger for bread, not in thirst for revenge.\n",
      "\n",
      "\n"
     ]
    }
   ],
   "source": [
    "path_to_file = get_file('shakespeare.txt', 'https://storage.googleapis.com/download.tensorflow.org/data/shakespeare.txt') \n",
    "text = open(path_to_file, 'rb').read().decode(encoding='utf-8') \n",
    "\n",
    "print(text[:1000])"
   ]
  },
  {
   "cell_type": "code",
   "execution_count": 5,
   "id": "b5b9f576-e028-4d8f-847a-8e64e7cbc358",
   "metadata": {},
   "outputs": [
    {
     "name": "stdout",
     "output_type": "stream",
     "text": [
      "Vectorized text shape:  (202646,)\n",
      "First 10 vectorized tokens:  [ 89 270 138  36 982 144 673 125  16 106]\n"
     ]
    }
   ],
   "source": [
    "vocab_size = 10000\n",
    "seq_length = 100\n",
    "\n",
    "vectorizer = TextVectorization(max_tokens = vocab_size, output_mode = 'int')\n",
    "text_ds = tf.data.Dataset.from_tensor_slices([text]).batch(1)\n",
    "vectorizer.adapt(text_ds)\n",
    "\n",
    "vectorized_text = vectorizer([text])[0]\n",
    "print(\"Vectorized text shape: \", vectorized_text.shape)\n",
    "print(\"First 10 vectorized tokens: \", vectorized_text.numpy()[:10])"
   ]
  },
  {
   "cell_type": "code",
   "execution_count": 6,
   "id": "e945101f-decc-4c15-b96a-2c7512c0ae04",
   "metadata": {},
   "outputs": [
    {
     "name": "stdout",
     "output_type": "stream",
     "text": [
      "Number of sequences generated:  202546\n",
      "Sample input sequence: [  89  270  138   36  982  144  673  125   16  106   34  106  106   89\n",
      "  270    7   41   34 1286  344    4  200   64    4 3690   34 1286 1286\n",
      "   89  270   89    7   93 1187  225   12 2442  592    4    2  307   34\n",
      "   36 2655   36 2655   89  270   72   79  506   27    3   56   24 1390\n",
      "   57   40  161 2328  644    9 4980   34   32   54 2863  885   72   17\n",
      "   18  163  146  146  165  270   74  218   46  595   89  270   36   41\n",
      " 6739  172  595    2 1780   46   29 1323 5151   47   58 4151   79   39\n",
      "   60   58]\n",
      "Shape of X: (202546, 100)\n",
      "Shape of Y: (202546, 100)\n"
     ]
    }
   ],
   "source": [
    "def create_sequences(text, seq_length):\n",
    "    input_seqs = []\n",
    "    target_seqs = []\n",
    "    for i in range(len(text)-seq_length):\n",
    "        input_seq = text[i:i + seq_length]\n",
    "        target_seq = text[i+1:i+seq_length+1]\n",
    "        input_seqs.append(input_seq)\n",
    "        target_seqs.append(target_seq)\n",
    "    return np.array(input_seqs), np.array(target_seqs)\n",
    "\n",
    "x, y = create_sequences(vectorized_text.numpy(), seq_length)\n",
    "\n",
    "print(\"Number of sequences generated: \", len(x))\n",
    "print(\"Sample input sequence:\", x[0] if len(x) > 0 else \"No sequences generated\") \n",
    "\n",
    "assert x.size > 0, \"Input data X is empty\" \n",
    "assert y.size > 0, \"Target data Y is empty\" \n",
    "x = tf.convert_to_tensor(x) \n",
    "y = tf.convert_to_tensor(y) \n",
    "print(\"Shape of X:\", x.shape) \n",
    "print(\"Shape of Y:\", y.shape)"
   ]
  },
  {
   "cell_type": "code",
   "execution_count": 7,
   "id": "995e4ad4-46c0-4f58-bfb0-c27d7928e0ee",
   "metadata": {},
   "outputs": [],
   "source": [
    "from tensorflow.keras.layers import Embedding, MultiHeadAttention, Dense, LayerNormalization, Dropout\n",
    "from tensorflow.keras.models import Model\n",
    "\n",
    "class TransformerBlock(tf.keras.layers.Layer):\n",
    "    def __init__(self, embed_dim, num_heads, ff_dim, rate=0.1):\n",
    "        super(TransformerBlock, self).__init__()\n",
    "        self.att = MultiHeadAttention(num_heads=num_heads, key_dim=embed_dim)\n",
    "        self.ffn = tf.keras.Sequential([\n",
    "            Dense(ff_dim, activation=\"relu\"),\n",
    "            Dense(embed_dim),\n",
    "        ])\n",
    "        self.layernorm1 = LayerNormalization(epsilon=1e-6)\n",
    "        self.layernorm2 = LayerNormalization(epsilon=1e-6)\n",
    "        self.dropout1 = Dropout(rate)\n",
    "        self.dropout2 = Dropout(rate)\n",
    "\n",
    "    def call(self, inputs, training=False):\n",
    "        attn_output = self.att(inputs, inputs)\n",
    "        attn_output = self.dropout1(attn_output, training=training)\n",
    "        out1 = self.layernorm1(inputs + attn_output)\n",
    "        ffn_output = self.ffn(out1)\n",
    "        ffn_output = self.dropout2(ffn_output, training=training)\n",
    "        return self.layernorm2(out1 + ffn_output)\n",
    "\n",
    "class TransformerModel(Model):  \n",
    "    def __init__(self, vocab_size, embed_dim, num_heads, ff_dim, num_layers, seq_length):\n",
    "        super(TransformerModel, self).__init__()\n",
    "        self.embedding = Embedding(vocab_size, embed_dim)\n",
    "        self.pos_encoding = self.positional_encoding(seq_length, embed_dim)\n",
    "        self.transformer_blocks = [TransformerBlock(embed_dim, num_heads, ff_dim) for _ in range(num_layers)]\n",
    "        self.dense = Dense(vocab_size)\n",
    "\n",
    "    def positional_encoding(self, seq_length, embed_dim):\n",
    "        angle_rads = self.get_angles(np.arange(seq_length)[:, np.newaxis], np.arange(embed_dim)[np.newaxis, :], embed_dim)\n",
    "        angle_rads[:, 0::2] = np.sin(angle_rads[:, 0::2])\n",
    "        angle_rads[:, 1::2] = np.cos(angle_rads[:, 1::2])\n",
    "        pos_encoding = angle_rads[np.newaxis, ...]\n",
    "        return tf.cast(pos_encoding, dtype=tf.float32)\n",
    "\n",
    "    def get_angles(self, pos, i, embed_dim):\n",
    "        angle_rates = 1 / np.power(10000, (2 * (i // 2)) / np.float32(embed_dim))\n",
    "        return pos * angle_rates\n",
    "\n",
    "    def call(self, inputs, training=False):\n",
    "        seq_len = tf.shape(inputs)[1]\n",
    "        x = self.embedding(inputs)\n",
    "        x += self.pos_encoding[:, :seq_len, :]\n",
    "        for transformer_block in self.transformer_blocks:\n",
    "            x = transformer_block(x, training=training)  \n",
    "        output = self.dense(x)\n",
    "        return output"
   ]
  },
  {
   "cell_type": "code",
   "execution_count": 8,
   "id": "5af0d2fd-c49b-4d9c-ac5f-7efdaccd09db",
   "metadata": {},
   "outputs": [
    {
     "name": "stdout",
     "output_type": "stream",
     "text": [
      "Model: \"transformer_model\"\n",
      "_________________________________________________________________\n",
      " Layer (type)                Output Shape              Param #   \n",
      "=================================================================\n",
      " embedding (Embedding)       multiple                  2560000   \n",
      "                                                                 \n",
      " transformer_block (Transfor  multiple                 1315840   \n",
      " merBlock)                                                       \n",
      "                                                                 \n",
      " transformer_block_1 (Transf  multiple                 1315840   \n",
      " ormerBlock)                                                     \n",
      "                                                                 \n",
      " transformer_block_2 (Transf  multiple                 1315840   \n",
      " ormerBlock)                                                     \n",
      "                                                                 \n",
      " transformer_block_3 (Transf  multiple                 1315840   \n",
      " ormerBlock)                                                     \n",
      "                                                                 \n",
      " dense_8 (Dense)             multiple                  2570000   \n",
      "                                                                 \n",
      "=================================================================\n",
      "Total params: 10,393,360\n",
      "Trainable params: 10,393,360\n",
      "Non-trainable params: 0\n",
      "_________________________________________________________________\n"
     ]
    }
   ],
   "source": [
    "embed_dim = 256\n",
    "num_heads = 4\n",
    "ff_dim = 512\n",
    "num_layers = 4\n",
    "\n",
    "model = TransformerModel(vocab_size, embed_dim, num_heads, ff_dim, num_layers, seq_length)\n",
    "_ = model(tf.random.uniform((1, seq_length), maxval = vocab_size, dtype = tf.int32))\n",
    "model.compile(optimizer = 'adam', loss = 'sparse_categorical_crossentropy')\n",
    "model.summary()"
   ]
  },
  {
   "cell_type": "code",
   "execution_count": 9,
   "id": "f4414bd3-f499-40f7-b9f8-233495311da8",
   "metadata": {},
   "outputs": [
    {
     "name": "stdout",
     "output_type": "stream",
     "text": [
      "Epoch 1/20\n",
      "6330/6330 [==============================] - 654s 102ms/step - loss: 11.9941\n",
      "Epoch 2/20\n",
      "6330/6330 [==============================] - 643s 102ms/step - loss: 12.0581\n",
      "Epoch 3/20\n",
      "6330/6330 [==============================] - 651s 103ms/step - loss: 11.9302\n",
      "Epoch 4/20\n",
      "6330/6330 [==============================] - 641s 101ms/step - loss: 11.2263\n",
      "Epoch 5/20\n",
      "6330/6330 [==============================] - 636s 100ms/step - loss: 10.8412\n",
      "Epoch 6/20\n",
      "6330/6330 [==============================] - 646s 102ms/step - loss: 10.6133\n",
      "Epoch 7/20\n",
      "6330/6330 [==============================] - 642s 101ms/step - loss: 10.4996\n",
      "Epoch 8/20\n",
      "6330/6330 [==============================] - 648s 102ms/step - loss: 10.5063\n",
      "Epoch 9/20\n",
      "6330/6330 [==============================] - 650s 103ms/step - loss: 10.6534\n"
     ]
    },
    {
     "data": {
      "image/png": "[encoded data removed]",
      "text/plain": [
       "<Figure size 640x480 with 1 Axes>"
      ]
     },
     "metadata": {},
     "output_type": "display_data"
    }
   ],
   "source": [
    "import matplotlib.pyplot as plt\n",
    "from tensorflow.keras.callbacks import EarlyStopping\n",
    "\n",
    "early_stopping = EarlyStopping(monitor='loss', patience=2, restore_best_weights=True)\n",
    "\n",
    "history = model.fit(x, y, epochs=20, batch_size=32, callbacks=[early_stopping])\n",
    "\n",
    "plt.plot(history.history['loss'])\n",
    "plt.xlabel('Epoch')\n",
    "plt.ylabel('Loss')\n",
    "plt.title('Training Loss')\n",
    "plt.show()"
   ]
  },
  {
   "cell_type": "code",
   "execution_count": 10,
   "id": "b657b4e0-ac25-40ee-9e29-03c57cb28276",
   "metadata": {},
   "outputs": [],
   "source": [
    "def generate_text(seed_text, next_words, max_seq_length):\n",
    "    for _ in range(next_words):\n",
    "        # Convert seed text to tokens\n",
    "        tokenized_input = vectorizer([seed_text])[:, -max_seq_length:]\n",
    "        \n",
    "        # Predict next token\n",
    "        predicted_logits = model(tokenized_input)\n",
    "        predicted_token = tf.argmax(predicted_logits[:, -1, :], axis=-1).numpy()[0]\n",
    "        \n",
    "        # Convert token back to word\n",
    "        next_word = vectorizer.get_vocabulary()[predicted_token]\n",
    "        \n",
    "        # Add predicted word to seed text\n",
    "        seed_text += ' ' + next_word\n",
    "    \n",
    "    return seed_text\n"
   ]
  },
  {
   "cell_type": "code",
   "execution_count": 11,
   "id": "fcdcde14-48f2-4871-8a5f-e02b20da7f59",
   "metadata": {},
   "outputs": [
    {
     "name": "stdout",
     "output_type": "stream",
     "text": [
      "Shall I compare thee to a summer's day or or or or or or or or or or or or or or or or or or or or or or or or or or or or or or or or or or or or or or or or or or or or or or or or or or\n"
     ]
    }
   ],
   "source": [
    "seed_text = \"Shall I compare thee to a summer's day\"\n",
    "generated_text = generate_text(seed_text, next_words=50, max_seq_length=seq_length)\n",
    "print(generated_text)\n"
   ]
  },
  {
   "cell_type": "code",
   "execution_count": 16,
   "id": "73ce3732-73db-4475-b71e-01e1dde21da5",
   "metadata": {},
   "outputs": [],
   "source": [
    "import numpy as np\n",
    "\n",
    "def generate_text_with_temperature(seed_text, next_words, max_seq_length, temperature=1.2):\n",
    "    for _ in range(next_words):\n",
    "        tokenized_input = vectorizer([seed_text])[:, -max_seq_length:]\n",
    "        predicted_logits = model(tokenized_input)\n",
    "        \n",
    "        # Apply temperature\n",
    "        logits = predicted_logits[:, -1, :] / temperature\n",
    "        probs = tf.nn.softmax(logits).numpy()[0]\n",
    "        \n",
    "        # Sample from the distribution\n",
    "        predicted_token = np.random.choice(len(probs), p=probs)\n",
    "        next_word = vectorizer.get_vocabulary()[predicted_token]\n",
    "        \n",
    "        seed_text += ' ' + next_word\n",
    "    \n",
    "    return seed_text\n"
   ]
  },
  {
   "cell_type": "code",
   "execution_count": 17,
   "id": "ecc72760-8dd6-4c66-8f9e-21909bf6544f",
   "metadata": {},
   "outputs": [
    {
     "name": "stdout",
     "output_type": "stream",
     "text": [
      "To be or not to be fish rubies immediate fount despite betrothd mammet leaden butt measles released stumble amiss scholar rugheaded leash apollos piercing swearing melancholy tickled notion soul bloody disorderd topbranch windy message cloister stale strip rite distraught beget gazed recure craft newborn formerly months lineal parents beauteous nearlegged rightly securely penny dust postern bids\n"
     ]
    }
   ],
   "source": [
    "seed_text = \"To be or not to be\"\n",
    "generated_text = generate_text_with_temperature(seed_text, next_words=50, max_seq_length=seq_length, temperature=1.0)\n",
    "print(generated_text)\n"
   ]
  },
  {
   "cell_type": "code",
   "execution_count": 18,
   "id": "2647793b-2c1d-4d65-a834-004fd3850f57",
   "metadata": {},
   "outputs": [
    {
     "name": "stdout",
     "output_type": "stream",
     "text": [
      "To be or not to be shipboard nursed wheres reputed expedient give montgomery beauty antigonus ally sneaping promise leagues fool taught ware enrich promise remembrances steads shineth regreet heralds bishop rayed relate burden scatters scratch prefers deed mose fairest bountiful ginger blessed pure reside slandertybalt meantime cheated shortst undescried swineherds gains strangely maythat as entreaties guard\n"
     ]
    }
   ],
   "source": [
    "def top_p_sampling(logits, p=0.9):\n",
    "    sorted_indices = np.argsort(logits)[::-1]\n",
    "    sorted_probs = tf.nn.softmax(logits[sorted_indices]).numpy()\n",
    "    cumulative_probs = np.cumsum(sorted_probs)\n",
    "\n",
    "    # Keep only tokens with cumulative probability <= p\n",
    "    sorted_indices = sorted_indices[cumulative_probs <= p]\n",
    "    sorted_probs = sorted_probs[:len(sorted_indices)]\n",
    "\n",
    "    predicted_token = np.random.choice(sorted_indices, p=sorted_probs / sum(sorted_probs))\n",
    "    return predicted_token\n",
    "def generate_text_with_top_p(seed_text, next_words, max_seq_length, p=0.9):\n",
    "    for _ in range(next_words):\n",
    "        tokenized_input = vectorizer([seed_text])[:, -max_seq_length:]\n",
    "        predicted_logits = model(tokenized_input)[:, -1, :]\n",
    "        predicted_token = top_p_sampling(predicted_logits[0].numpy(), p)\n",
    "        next_word = vectorizer.get_vocabulary()[predicted_token]\n",
    "        seed_text += ' ' + next_word\n",
    "    return seed_text\n",
    "generated_text = generate_text_with_top_p(seed_text, next_words=50, max_seq_length=seq_length, p=0.9)\n",
    "print(generated_text)\n"
   ]
  },
  {
   "cell_type": "code",
   "execution_count": 20,
   "id": "d02a4d8b-bbd3-4392-80df-3f35c125f26f",
   "metadata": {},
   "outputs": [
    {
     "name": "stdout",
     "output_type": "stream",
     "text": [
      "To be or not to be hateful aqua wildest intended wondering starkly ready metre statues tinderlike amend wedlock commission do indifferent sell lately preoccupied step mild rank mum percussion greek apology victors cunning finds sprang drowning aim nimblepiniond widowhood subsisting sheeps experience shipping sheangel wrong pots majestical sops steps mamillius wipe brooch curtain stealing paind milder\n"
     ]
    }
   ],
   "source": [
    "import numpy as np\n",
    "import tensorflow as tf\n",
    "\n",
    "def sample_with_top_p_and_temp(predictions, top_p=0.9, temperature=1.0):\n",
    "    # Apply temperature\n",
    "    logits = predictions / temperature\n",
    "    \n",
    "    # Get sorted token probabilities\n",
    "    sorted_indices = np.argsort(logits)[::-1]\n",
    "    sorted_logits = logits[sorted_indices]\n",
    "    sorted_probs = tf.nn.softmax(sorted_logits).numpy()\n",
    "\n",
    "    # Get cumulative probability\n",
    "    cumulative_probs = np.cumsum(sorted_probs)\n",
    "\n",
    "    # Keep only tokens whose cumulative probability <= top_p\n",
    "    sorted_indices_to_remove = cumulative_probs > top_p\n",
    "    sorted_probs[sorted_indices_to_remove] = 0\n",
    "    sorted_probs /= np.sum(sorted_probs)\n",
    "\n",
    "    # Sample from the filtered distribution\n",
    "    next_token = np.random.choice(sorted_indices, p=sorted_probs)\n",
    "\n",
    "    return next_token\n",
    "\n",
    "def generate_text_with_top_p_and_temp(seed_text, next_words=50, max_seq_length=100, top_p=0.9, temperature=1.0):\n",
    "    for _ in range(next_words):\n",
    "        # Preprocess input\n",
    "        tokenized_input = vectorizer([seed_text])[:, -max_seq_length:]\n",
    "        \n",
    "        # Predict next token logits\n",
    "        predictions = model(tokenized_input, training=False)[0, -1, :].numpy()\n",
    "        \n",
    "        # Sample next token using Top-P + Temperature\n",
    "        next_token = sample_with_top_p_and_temp(predictions, top_p, temperature)\n",
    "        \n",
    "        # Convert token back to word\n",
    "        next_word = vectorizer.get_vocabulary()[next_token]\n",
    "        \n",
    "        # Add the word to seed text\n",
    "        seed_text += \" \" + next_word\n",
    "    \n",
    "    return seed_text\n",
    "\n",
    "# Example usage:\n",
    "seed_text = \"To be or not to be\"\n",
    "generated_text = generate_text_with_top_p_and_temp(seed_text, next_words=50, top_p=0.9, temperature=0.8)\n",
    "print(generated_text)\n"
   ]
  },
  {
   "cell_type": "code",
   "execution_count": null,
   "id": "e94d1482-d91e-4d77-9259-c417d4fd585d",
   "metadata": {},
   "outputs": [],
   "source": []
  }
 ],
 "metadata": {
  "kernelspec": {
   "display_name": "Python (myenv)",
   "language": "python",
   "name": "myenv"
  },
  "language_info": {
   "codemirror_mode": {
    "name": "ipython",
    "version": 3
   },
   "file_extension": ".py",
   "mimetype": "text/x-python",
   "name": "python",
   "nbconvert_exporter": "python",
   "pygments_lexer": "ipython3",
   "version": "3.10.16"
  }
 },
 "nbformat": 4,
 "nbformat_minor": 5
}
