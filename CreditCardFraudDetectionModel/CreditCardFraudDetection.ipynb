{
 "cells": [
  {
   "cell_type": "code",
   "execution_count": null,
   "id": "195f74cb-6387-4588-af20-a0d1864e741b",
   "metadata": {},
   "outputs": [],
   "source": []
  }
 ],
 "metadata": {
  "kernelspec": {
   "display_name": "",
   "name": ""
  },
  "language_info": {
   "name": ""
  }
 },
 "nbformat": 4,
 "nbformat_minor": 5
}
